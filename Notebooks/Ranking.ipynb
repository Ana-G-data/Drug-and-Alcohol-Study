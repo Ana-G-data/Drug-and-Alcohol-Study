{
 "cells": [
  {
   "cell_type": "code",
   "execution_count": 1,
   "metadata": {},
   "outputs": [],
   "source": [
    "import pandas as pd"
   ]
  },
  {
   "cell_type": "code",
   "execution_count": 2,
   "metadata": {},
   "outputs": [
    {
     "data": {
      "text/html": [
       "<div>\n",
       "<style scoped>\n",
       "    .dataframe tbody tr th:only-of-type {\n",
       "        vertical-align: middle;\n",
       "    }\n",
       "\n",
       "    .dataframe tbody tr th {\n",
       "        vertical-align: top;\n",
       "    }\n",
       "\n",
       "    .dataframe thead th {\n",
       "        text-align: right;\n",
       "    }\n",
       "</style>\n",
       "<table border=\"1\" class=\"dataframe\">\n",
       "  <thead>\n",
       "    <tr style=\"text-align: right;\">\n",
       "      <th></th>\n",
       "      <th>Ranking of drug groups in order of prevalence, 2020</th>\n",
       "      <th>Unnamed: 1</th>\n",
       "      <th>Unnamed: 2</th>\n",
       "      <th>Unnamed: 3</th>\n",
       "      <th>Unnamed: 4</th>\n",
       "      <th>Unnamed: 5</th>\n",
       "    </tr>\n",
       "  </thead>\n",
       "  <tbody>\n",
       "    <tr>\n",
       "      <th>0</th>\n",
       "      <td>NaN</td>\n",
       "      <td>NaN</td>\n",
       "      <td>NaN</td>\n",
       "      <td>NaN</td>\n",
       "      <td>NaN</td>\n",
       "      <td>NaN</td>\n",
       "    </tr>\n",
       "    <tr>\n",
       "      <th>1</th>\n",
       "      <td>Region</td>\n",
       "      <td>SubRegion</td>\n",
       "      <td>ISO3</td>\n",
       "      <td>Country/Territory</td>\n",
       "      <td>Drug Group</td>\n",
       "      <td>Ranking</td>\n",
       "    </tr>\n",
       "    <tr>\n",
       "      <th>2</th>\n",
       "      <td>Africa</td>\n",
       "      <td>North Africa</td>\n",
       "      <td>DZA</td>\n",
       "      <td>Algeria</td>\n",
       "      <td>Cannabis-type drugs</td>\n",
       "      <td>1</td>\n",
       "    </tr>\n",
       "    <tr>\n",
       "      <th>3</th>\n",
       "      <td>Africa</td>\n",
       "      <td>North Africa</td>\n",
       "      <td>DZA</td>\n",
       "      <td>Algeria</td>\n",
       "      <td>(Non-medical use of) pharmaceutical sedatives...</td>\n",
       "      <td>2</td>\n",
       "    </tr>\n",
       "    <tr>\n",
       "      <th>4</th>\n",
       "      <td>Africa</td>\n",
       "      <td>North Africa</td>\n",
       "      <td>DZA</td>\n",
       "      <td>Algeria</td>\n",
       "      <td>“Ecstasy”-type substances</td>\n",
       "      <td>3</td>\n",
       "    </tr>\n",
       "  </tbody>\n",
       "</table>\n",
       "</div>"
      ],
      "text/plain": [
       "  Ranking of drug groups in order of prevalence, 2020    Unnamed: 1   \n",
       "0                                                NaN            NaN  \\\n",
       "1                                             Region      SubRegion   \n",
       "2                                             Africa   North Africa   \n",
       "3                                             Africa   North Africa   \n",
       "4                                             Africa   North Africa   \n",
       "\n",
       "  Unnamed: 2         Unnamed: 3   \n",
       "0        NaN                NaN  \\\n",
       "1       ISO3  Country/Territory   \n",
       "2        DZA            Algeria   \n",
       "3        DZA            Algeria   \n",
       "4        DZA            Algeria   \n",
       "\n",
       "                                          Unnamed: 4 Unnamed: 5  \n",
       "0                                                NaN        NaN  \n",
       "1                                         Drug Group    Ranking  \n",
       "2                                Cannabis-type drugs          1  \n",
       "3   (Non-medical use of) pharmaceutical sedatives...          2  \n",
       "4                          “Ecstasy”-type substances          3  "
      ]
     },
     "execution_count": 2,
     "metadata": {},
     "output_type": "execute_result"
    }
   ],
   "source": [
    "excel_file = pd.read_excel('Datos/drogas/3.1_-_Expert_perception_of_ranking_of_drugs_in_order_of_prevalence_of_drug_use.xlsx')\n",
    "excel_file.head()"
   ]
  },
  {
   "cell_type": "code",
   "execution_count": 3,
   "metadata": {},
   "outputs": [
    {
     "data": {
      "text/html": [
       "<div>\n",
       "<style scoped>\n",
       "    .dataframe tbody tr th:only-of-type {\n",
       "        vertical-align: middle;\n",
       "    }\n",
       "\n",
       "    .dataframe tbody tr th {\n",
       "        vertical-align: top;\n",
       "    }\n",
       "\n",
       "    .dataframe thead th {\n",
       "        text-align: right;\n",
       "    }\n",
       "</style>\n",
       "<table border=\"1\" class=\"dataframe\">\n",
       "  <thead>\n",
       "    <tr style=\"text-align: right;\">\n",
       "      <th>1</th>\n",
       "      <th>Region</th>\n",
       "      <th>SubRegion</th>\n",
       "      <th>ISO3</th>\n",
       "      <th>Country/Territory</th>\n",
       "      <th>Drug Group</th>\n",
       "      <th>Ranking</th>\n",
       "    </tr>\n",
       "  </thead>\n",
       "  <tbody>\n",
       "    <tr>\n",
       "      <th>2</th>\n",
       "      <td>Africa</td>\n",
       "      <td>North Africa</td>\n",
       "      <td>DZA</td>\n",
       "      <td>Algeria</td>\n",
       "      <td>Cannabis-type drugs</td>\n",
       "      <td>1</td>\n",
       "    </tr>\n",
       "    <tr>\n",
       "      <th>3</th>\n",
       "      <td>Africa</td>\n",
       "      <td>North Africa</td>\n",
       "      <td>DZA</td>\n",
       "      <td>Algeria</td>\n",
       "      <td>(Non-medical use of) pharmaceutical sedatives...</td>\n",
       "      <td>2</td>\n",
       "    </tr>\n",
       "    <tr>\n",
       "      <th>4</th>\n",
       "      <td>Africa</td>\n",
       "      <td>North Africa</td>\n",
       "      <td>DZA</td>\n",
       "      <td>Algeria</td>\n",
       "      <td>“Ecstasy”-type substances</td>\n",
       "      <td>3</td>\n",
       "    </tr>\n",
       "    <tr>\n",
       "      <th>5</th>\n",
       "      <td>Africa</td>\n",
       "      <td>North Africa</td>\n",
       "      <td>DZA</td>\n",
       "      <td>Algeria</td>\n",
       "      <td>Cocaine-type drugs</td>\n",
       "      <td>4</td>\n",
       "    </tr>\n",
       "    <tr>\n",
       "      <th>6</th>\n",
       "      <td>Africa</td>\n",
       "      <td>North Africa</td>\n",
       "      <td>DZA</td>\n",
       "      <td>Algeria</td>\n",
       "      <td>Hallucinogens</td>\n",
       "      <td>5</td>\n",
       "    </tr>\n",
       "  </tbody>\n",
       "</table>\n",
       "</div>"
      ],
      "text/plain": [
       "1  Region     SubRegion ISO3 Country/Territory   \n",
       "2  Africa  North Africa  DZA           Algeria  \\\n",
       "3  Africa  North Africa  DZA           Algeria   \n",
       "4  Africa  North Africa  DZA           Algeria   \n",
       "5  Africa  North Africa  DZA           Algeria   \n",
       "6  Africa  North Africa  DZA           Algeria   \n",
       "\n",
       "1                                         Drug Group Ranking  \n",
       "2                                Cannabis-type drugs       1  \n",
       "3   (Non-medical use of) pharmaceutical sedatives...       2  \n",
       "4                          “Ecstasy”-type substances       3  \n",
       "5                                 Cocaine-type drugs       4  \n",
       "6                                      Hallucinogens       5  "
      ]
     },
     "execution_count": 3,
     "metadata": {},
     "output_type": "execute_result"
    }
   ],
   "source": [
    "excel_file.columns = excel_file.iloc[1]\n",
    "excel_file = excel_file.reset_index(drop=True)\n",
    "excel_file = excel_file.drop([0, 1])\n",
    "\n",
    "excel_file.head()"
   ]
  },
  {
   "cell_type": "code",
   "execution_count": 4,
   "metadata": {},
   "outputs": [
    {
     "data": {
      "text/plain": [
       "array(['Cannabis-type drugs',\n",
       "       ' (Non-medical use of) pharmaceutical sedatives and tranquillizers',\n",
       "       ' “Ecstasy”-type substances', ' Cocaine-type drugs',\n",
       "       ' Hallucinogens',\n",
       "       ' Opioids, including opiates and synthetic opioids',\n",
       "       ' Amphetamine-type stimulants', ' Solvents and inhalants',\n",
       "       ' New psychoactive substances',\n",
       "       'Opioids, including opiates and synthetic opioids',\n",
       "       ' Cannabis-type drugs',\n",
       "       ' Other drugs / psychoactive substances / pharmaceutical products not listed above',\n",
       "       'Amphetamine-type stimulants',\n",
       "       '(Non-medical use of) pharmaceutical sedatives and tranquillizers'],\n",
       "      dtype=object)"
      ]
     },
     "execution_count": 4,
     "metadata": {},
     "output_type": "execute_result"
    }
   ],
   "source": [
    "excel_file['Drug Group'].unique()"
   ]
  },
  {
   "cell_type": "code",
   "execution_count": 5,
   "metadata": {},
   "outputs": [],
   "source": [
    "excel_file.to_csv('Datos/Finales/ranking.csv')"
   ]
  },
  {
   "cell_type": "code",
   "execution_count": null,
   "metadata": {},
   "outputs": [],
   "source": []
  }
 ],
 "metadata": {
  "kernelspec": {
   "display_name": "iron",
   "language": "python",
   "name": "python3"
  },
  "language_info": {
   "codemirror_mode": {
    "name": "ipython",
    "version": 3
   },
   "file_extension": ".py",
   "mimetype": "text/x-python",
   "name": "python",
   "nbconvert_exporter": "python",
   "pygments_lexer": "ipython3",
   "version": "3.9.13"
  },
  "orig_nbformat": 4
 },
 "nbformat": 4,
 "nbformat_minor": 2
}
